{
  "cells": [
    {
      "cell_type": "markdown",
      "metadata": {
        "colab_type": "text",
        "id": "view-in-github"
      },
      "source": [
        "<a href=\"https://colab.research.google.com/github/pokablive/datasi/blob/main/DS23_preprocessing_%E9%85%8D%E5%B8%83%E7%94%A8_%E3%81%AE%E3%82%B3%E3%83%94%E3%83%BC_%E3%81%AE%E3%82%B3%E3%83%94%E3%83%BC.ipynb\" target=\"_parent\"><img src=\"https://colab.research.google.com/assets/colab-badge.svg\" alt=\"Open In Colab\"/></a>"
      ]
    },
    {
      "cell_type": "markdown",
      "metadata": {
        "id": "SrLgL3UoMpQR"
      },
      "source": [
        "パッケージのインストール"
      ]
    },
    {
      "cell_type": "code",
      "execution_count": 8,
      "metadata": {
        "colab": {
          "base_uri": "https://localhost:8080/"
        },
        "id": "960ToMvv23Ch",
        "outputId": "3c92ac51-cf7b-4632-9d1a-dd10463e995e"
      },
      "outputs": [
        {
          "name": "stdout",
          "output_type": "stream",
          "text": [
            "Requirement already satisfied: typing-extensions in /Users/sasakiyuto/miniforge3/envs/datasi/lib/python3.11/site-packages (4.8.0)\n",
            "Note: you may need to restart the kernel to use updated packages.\n"
          ]
        }
      ],
      "source": [
        "%pip install -U typing-extensions"
      ]
    },
    {
      "cell_type": "code",
      "execution_count": 9,
      "metadata": {
        "colab": {
          "base_uri": "https://localhost:8080/"
        },
        "id": "YZKdvFwY27da",
        "outputId": "8f74f50b-cb7d-4b0b-e491-f8710894f06a"
      },
      "outputs": [
        {
          "name": "stdout",
          "output_type": "stream",
          "text": [
            "Requirement already satisfied: jaxtyping in /Users/sasakiyuto/miniforge3/envs/datasi/lib/python3.11/site-packages (0.2.22)\n",
            "Requirement already satisfied: numpy>=1.20.0 in /Users/sasakiyuto/miniforge3/envs/datasi/lib/python3.11/site-packages (from jaxtyping) (1.26.0)\n",
            "Requirement already satisfied: typeguard>=2.13.3 in /Users/sasakiyuto/miniforge3/envs/datasi/lib/python3.11/site-packages (from jaxtyping) (4.1.5)\n",
            "Requirement already satisfied: typing-extensions>=3.7.4.1 in /Users/sasakiyuto/miniforge3/envs/datasi/lib/python3.11/site-packages (from jaxtyping) (4.8.0)\n",
            "Note: you may need to restart the kernel to use updated packages.\n"
          ]
        }
      ],
      "source": [
        "%pip install jaxtyping"
      ]
    },
    {
      "cell_type": "markdown",
      "metadata": {
        "id": "H0Yhep7qMsIG"
      },
      "source": [
        "パッケージのimport"
      ]
    },
    {
      "cell_type": "code",
      "execution_count": 10,
      "metadata": {
        "id": "g71EleONtuFw"
      },
      "outputs": [
        {
          "ename": "ImportError",
          "evalue": "cannot import name 'Array' from 'jaxtyping' (/Users/sasakiyuto/miniforge3/envs/datasi/lib/python3.11/site-packages/jaxtyping/__init__.py)",
          "output_type": "error",
          "traceback": [
            "\u001b[0;31m---------------------------------------------------------------------------\u001b[0m",
            "\u001b[0;31mImportError\u001b[0m                               Traceback (most recent call last)",
            "\u001b[1;32m/Users/sasakiyuto/class/harf-4/datasience/DS23_preprocessing_配布用_のコピー_のコピー.ipynb セル 6\u001b[0m line \u001b[0;36m2\n\u001b[1;32m      <a href='vscode-notebook-cell:/Users/sasakiyuto/class/harf-4/datasience/DS23_preprocessing_%E9%85%8D%E5%B8%83%E7%94%A8_%E3%81%AE%E3%82%B3%E3%83%94%E3%83%BC_%E3%81%AE%E3%82%B3%E3%83%94%E3%83%BC.ipynb#W5sZmlsZQ%3D%3D?line=0'>1</a>\u001b[0m \u001b[39mfrom\u001b[39;00m \u001b[39mtyping\u001b[39;00m \u001b[39mimport\u001b[39;00m Sequence, Any\n\u001b[0;32m----> <a href='vscode-notebook-cell:/Users/sasakiyuto/class/harf-4/datasience/DS23_preprocessing_%E9%85%8D%E5%B8%83%E7%94%A8_%E3%81%AE%E3%82%B3%E3%83%94%E3%83%BC_%E3%81%AE%E3%82%B3%E3%83%94%E3%83%BC.ipynb#W5sZmlsZQ%3D%3D?line=1'>2</a>\u001b[0m \u001b[39mfrom\u001b[39;00m \u001b[39mjaxtyping\u001b[39;00m \u001b[39mimport\u001b[39;00m Array, Float, Num\n\u001b[1;32m      <a href='vscode-notebook-cell:/Users/sasakiyuto/class/harf-4/datasience/DS23_preprocessing_%E9%85%8D%E5%B8%83%E7%94%A8_%E3%81%AE%E3%82%B3%E3%83%94%E3%83%BC_%E3%81%AE%E3%82%B3%E3%83%94%E3%83%BC.ipynb#W5sZmlsZQ%3D%3D?line=2'>3</a>\u001b[0m \u001b[39mfrom\u001b[39;00m \u001b[39mtyping_extensions\u001b[39;00m \u001b[39mimport\u001b[39;00m Self\n\u001b[1;32m      <a href='vscode-notebook-cell:/Users/sasakiyuto/class/harf-4/datasience/DS23_preprocessing_%E9%85%8D%E5%B8%83%E7%94%A8_%E3%81%AE%E3%82%B3%E3%83%94%E3%83%BC_%E3%81%AE%E3%82%B3%E3%83%94%E3%83%BC.ipynb#W5sZmlsZQ%3D%3D?line=4'>5</a>\u001b[0m \u001b[39mimport\u001b[39;00m \u001b[39mnumpy\u001b[39;00m \u001b[39mas\u001b[39;00m \u001b[39mnp\u001b[39;00m\n",
            "\u001b[0;31mImportError\u001b[0m: cannot import name 'Array' from 'jaxtyping' (/Users/sasakiyuto/miniforge3/envs/datasi/lib/python3.11/site-packages/jaxtyping/__init__.py)"
          ]
        }
      ],
      "source": [
        "from typing import Sequence, Any\n",
        "from jaxtyping import Array, Float, Num\n",
        "from typing_extensions import Self\n",
        "\n",
        "import numpy as np\n",
        "from sklearn.utils.validation import check_is_fitted\n",
        "from sklearn.base import OneToOneFeatureMixin, TransformerMixin, BaseEstimator\n",
        "\n",
        "from sklearn.datasets import load_iris, load_wine\n",
        "from sklearn.model_selection import train_test_split"
      ]
    },
    {
      "cell_type": "markdown",
      "metadata": {
        "id": "7DbDmX_9Mw4o"
      },
      "source": [
        "## 正規化\n",
        "\n",
        "正規化とは以下の処理を特徴量ごとに行う，データ解析の前処理のこと．\n",
        "\n",
        "$$\n",
        "X_\\text{normal} =\\frac{X-X_{min}}{X_{max}-X_{min}}\n",
        "$$"
      ]
    },
    {
      "cell_type": "markdown",
      "metadata": {
        "id": "lZsojsS-vvce"
      },
      "source": [
        "### sklearn-like apiによる正規化の実装"
      ]
    },
    {
      "cell_type": "code",
      "execution_count": null,
      "metadata": {
        "id": "ngUSmKht76AM"
      },
      "outputs": [],
      "source": [
        "class MinMaxScaler(OneToOneFeatureMixin, TransformerMixin, BaseEstimator):\n",
        "    def __init__(self, in_features=None):\n",
        "        self.in_features = in_features\n",
        "\n",
        "    def fit(self, X, y=None):\n",
        "        if self.in_features is None:\n",
        "            self.in_features_ = np.ones(X.shape[1], dtype=np.bool_)\n",
        "        else:\n",
        "            self.in_features_ = self.in_features\n",
        "        X = X[:,self.in_features_]\n",
        "        self.min_ = X.min(axis=0)\n",
        "        self.max_ = X.max(axis=0)\n",
        "        return self\n",
        "\n",
        "    def transform(self, X):\n",
        "        check_is_fitted(self, \"min_\")\n",
        "        X = X[:,self.in_features_]\n",
        "        transformed = (X - self.min_) / (self.max_ - self.min_)\n",
        "        return transformed\n",
        "\n",
        "    def fit_transform(self, X):\n",
        "        self.fit(X)\n",
        "        tranformed = self.transform(X)\n",
        "        return tranformed"
      ]
    },
    {
      "cell_type": "markdown",
      "metadata": {
        "id": "3hgsDgraOPou"
      },
      "source": [
        "type hintを使ったバージョン"
      ]
    },
    {
      "cell_type": "code",
      "execution_count": 4,
      "metadata": {
        "id": "nupnZeCNtvYj"
      },
      "outputs": [
        {
          "ename": "NameError",
          "evalue": "name 'TransformerMixin' is not defined",
          "output_type": "error",
          "traceback": [
            "\u001b[0;31m---------------------------------------------------------------------------\u001b[0m",
            "\u001b[0;31mNameError\u001b[0m                                 Traceback (most recent call last)",
            "\u001b[1;32m/Users/sasakiyuto/class/harf-4/datasience/DS23_preprocessing_配布用_のコピー_のコピー.ipynb セル 11\u001b[0m line \u001b[0;36m1\n\u001b[0;32m----> <a href='vscode-notebook-cell:/Users/sasakiyuto/class/harf-4/datasience/DS23_preprocessing_%E9%85%8D%E5%B8%83%E7%94%A8_%E3%81%AE%E3%82%B3%E3%83%94%E3%83%BC_%E3%81%AE%E3%82%B3%E3%83%94%E3%83%BC.ipynb#X13sZmlsZQ%3D%3D?line=0'>1</a>\u001b[0m \u001b[39mclass\u001b[39;00m \u001b[39mStandardScaler\u001b[39;00m( TransformerMixin, BaseEstimator):\n\u001b[1;32m      <a href='vscode-notebook-cell:/Users/sasakiyuto/class/harf-4/datasience/DS23_preprocessing_%E9%85%8D%E5%B8%83%E7%94%A8_%E3%81%AE%E3%82%B3%E3%83%94%E3%83%BC_%E3%81%AE%E3%82%B3%E3%83%94%E3%83%BC.ipynb#X13sZmlsZQ%3D%3D?line=1'>2</a>\u001b[0m     \u001b[39mdef\u001b[39;00m \u001b[39m__init__\u001b[39m(\u001b[39mself\u001b[39m, in_features: Sequence[\u001b[39mint\u001b[39m] \u001b[39m|\u001b[39m \u001b[39mNone\u001b[39;00m \u001b[39m=\u001b[39m\u001b[39mNone\u001b[39;00m,ddof\u001b[39m=\u001b[39m\u001b[39m0\u001b[39m)\u001b[39m-\u001b[39m\u001b[39m>\u001b[39m\u001b[39mNone\u001b[39;00m:\n\u001b[1;32m      <a href='vscode-notebook-cell:/Users/sasakiyuto/class/harf-4/datasience/DS23_preprocessing_%E9%85%8D%E5%B8%83%E7%94%A8_%E3%81%AE%E3%82%B3%E3%83%94%E3%83%BC_%E3%81%AE%E3%82%B3%E3%83%94%E3%83%BC.ipynb#X13sZmlsZQ%3D%3D?line=2'>3</a>\u001b[0m         \u001b[39mself\u001b[39m\u001b[39m.\u001b[39min_features \u001b[39m=\u001b[39m in_features\n",
            "\u001b[0;31mNameError\u001b[0m: name 'TransformerMixin' is not defined"
          ]
        }
      ],
      "source": [
        "class StandardScaler( TransformerMixin, BaseEstimator):\n",
        "    def __init__(self, in_features: Sequence[int] | None =None,ddof=0)->None:\n",
        "        self.in_features = in_features\n",
        "        self.ddof = ddof\n",
        "\n",
        "    def fit(self, X: Num[Array, \"data feature\"], y=None)->Self:\n",
        "        if self.in_features is None:\n",
        "            self.in_features_ = np.ones(X.shape[1], dtype=np.bool_)\n",
        "        else:\n",
        "            self.in_features_ = self.in_features\n",
        "        X = X[:,self.in_features_]\n",
        "        self.mu= X.mean(axis=0)\n",
        "        self.sigma = X.std(self.ddof,axis=0)\n",
        "        return self\n",
        "\n",
        "    def transform(self, X: Num[Array, \"data feature\"])->Num[Array, \"data feature\"]:\n",
        "        check_is_fitted(self, \"mu_\")\n",
        "        X = X[:,self.in_features_]\n",
        "        transformed = (X - self.mu) / self.sigma\n",
        "        return transformed\n",
        "\n",
        "    def fit_transform(self, X: Num[Array, \"data feature\"])->Num[Array, \"data feature\"]:\n",
        "        self.fit(X)\n",
        "        tranformed = self.transform(X)\n",
        "        return tranformed"
      ]
    },
    {
      "cell_type": "code",
      "execution_count": null,
      "metadata": {
        "id": "EPNjvq1owHQx"
      },
      "outputs": [],
      "source": [
        "iris = load_iris()\n",
        "X_train, X_test, y_train, y_test = train_test_split(iris.data, iris.target, test_size=0.3)"
      ]
    },
    {
      "cell_type": "code",
      "execution_count": null,
      "metadata": {
        "id": "L2DrnBk8wdTE"
      },
      "outputs": [],
      "source": [
        "MinMaxScaler().transform(X_test)"
      ]
    },
    {
      "cell_type": "code",
      "execution_count": null,
      "metadata": {
        "id": "Oa69a2v1wsJQ"
      },
      "outputs": [],
      "source": [
        "MinMaxScaler([0,1]).fit(X_train).transform(X_test)"
      ]
    },
    {
      "cell_type": "markdown",
      "metadata": {
        "id": "6OtrZ8d2AtJW"
      },
      "source": [
        "## 標準化\n",
        "\n",
        "標準化とは以下の処理を特徴量ごとに行う，データ解析の前処理のこと．\n",
        "\n",
        "\n",
        "$$\n",
        "X_{std} = \\frac{X-\\mu}{\\sigma_X}\n",
        "$$"
      ]
    },
    {
      "cell_type": "markdown",
      "metadata": {
        "id": "oXgtiKdPNPJ2"
      },
      "source": [
        "### sklearn-like APIによる標準化の実装\n",
        "\n",
        "MinMaxScalerクラスを参考に，標準化を実装せよ．"
      ]
    },
    {
      "cell_type": "code",
      "execution_count": 5,
      "metadata": {
        "id": "x88YWe4UxwN0"
      },
      "outputs": [
        {
          "ename": "NameError",
          "evalue": "name 'OneToOneFeatureMixin' is not defined",
          "output_type": "error",
          "traceback": [
            "\u001b[0;31m---------------------------------------------------------------------------\u001b[0m",
            "\u001b[0;31mNameError\u001b[0m                                 Traceback (most recent call last)",
            "\u001b[1;32m/Users/sasakiyuto/class/harf-4/datasience/DS23_preprocessing_配布用_のコピー_のコピー.ipynb セル 17\u001b[0m line \u001b[0;36m1\n\u001b[0;32m----> <a href='vscode-notebook-cell:/Users/sasakiyuto/class/harf-4/datasience/DS23_preprocessing_%E9%85%8D%E5%B8%83%E7%94%A8_%E3%81%AE%E3%82%B3%E3%83%94%E3%83%BC_%E3%81%AE%E3%82%B3%E3%83%94%E3%83%BC.ipynb#X22sZmlsZQ%3D%3D?line=0'>1</a>\u001b[0m \u001b[39mclass\u001b[39;00m \u001b[39mMinMaxScaler\u001b[39;00m(OneToOneFeatureMixin, TransformerMixin, BaseEstimator):\n\u001b[1;32m      <a href='vscode-notebook-cell:/Users/sasakiyuto/class/harf-4/datasience/DS23_preprocessing_%E9%85%8D%E5%B8%83%E7%94%A8_%E3%81%AE%E3%82%B3%E3%83%94%E3%83%BC_%E3%81%AE%E3%82%B3%E3%83%94%E3%83%BC.ipynb#X22sZmlsZQ%3D%3D?line=1'>2</a>\u001b[0m     \u001b[39mdef\u001b[39;00m \u001b[39m__init__\u001b[39m(\u001b[39mself\u001b[39m, in_features: Sequence[\u001b[39mint\u001b[39m] \u001b[39m|\u001b[39m \u001b[39mNone\u001b[39;00m \u001b[39m=\u001b[39m\u001b[39mNone\u001b[39;00m,ddof\u001b[39m=\u001b[39m\u001b[39m0\u001b[39m)\u001b[39m-\u001b[39m\u001b[39m>\u001b[39m\u001b[39mNone\u001b[39;00m:\n\u001b[1;32m      <a href='vscode-notebook-cell:/Users/sasakiyuto/class/harf-4/datasience/DS23_preprocessing_%E9%85%8D%E5%B8%83%E7%94%A8_%E3%81%AE%E3%82%B3%E3%83%94%E3%83%BC_%E3%81%AE%E3%82%B3%E3%83%94%E3%83%BC.ipynb#X22sZmlsZQ%3D%3D?line=2'>3</a>\u001b[0m         \u001b[39mself\u001b[39m\u001b[39m.\u001b[39min_features \u001b[39m=\u001b[39m in_features\n",
            "\u001b[0;31mNameError\u001b[0m: name 'OneToOneFeatureMixin' is not defined"
          ]
        }
      ],
      "source": [
        "class StandardScaler(OneToOneFeatureMixin, TransformerMixin, BaseEstimator):\n",
        "    def __init__(self, in_features: Sequence[int] | None =None,ddof=0)->None:\n",
        "        self.in_features = in_features\n",
        "        self.ddof=ddof\n",
        "\n",
        "    def fit(self, X: Num[Array, \"data feature\"], y=None)->Self:\n",
        "        if self.in_features is None:\n",
        "            self.in_features_ = np.ones(X.shape[1], dtype=np.bool_)\n",
        "        else:\n",
        "            self.in_features_ = self.in_features\n",
        "        X = X[:,self.in_features_]\n",
        "        self.mu = X.mean(axis=0)\n",
        "        self.sigma = X.std(self.ddof,axis=0)\n",
        "        return self\n",
        "\n",
        "    def transform(self, X: Num[Array, \"data feature\"])->Num[Array, \"data feature\"]:\n",
        "        check_is_fitted(self, \"min_\")\n",
        "        X = X[:,self.in_features_]\n",
        "        transformed = (X - self.mu) / self.sigma\n",
        "        return transformed\n",
        "\n",
        "    def fit_transform(self, X: Num[Array, \"data feature\"])->Num[Array, \"data feature\"]:\n",
        "        self.fit(X)\n",
        "        tranformed = self.transform(X)\n",
        "        return tranformed"
      ]
    },
    {
      "cell_type": "code",
      "execution_count": null,
      "metadata": {
        "id": "zMbvElevN-3i"
      },
      "outputs": [],
      "source": [
        "StandardScaler(ddof=1).fit(X_train).transform(X_test)"
      ]
    },
    {
      "cell_type": "code",
      "execution_count": null,
      "metadata": {
        "id": "ltoCuYy2OCxQ"
      },
      "outputs": [],
      "source": [
        "StandardScaler(ddof=0).fit(X_train).transform(X_test)"
      ]
    },
    {
      "cell_type": "code",
      "execution_count": null,
      "metadata": {
        "id": "jtfZO02EGXBK"
      },
      "outputs": [],
      "source": [
        "StandardScaler([0,1]).fit(X_train).transform(X_test)"
      ]
    },
    {
      "cell_type": "code",
      "execution_count": null,
      "metadata": {
        "id": "m3iGFeO7Gdtu"
      },
      "outputs": [],
      "source": [
        "StandardScaler([0,1]).transform(X_test)"
      ]
    },
    {
      "cell_type": "code",
      "execution_count": null,
      "metadata": {
        "id": "yTIMmdMHGwOm"
      },
      "outputs": [],
      "source": []
    }
  ],
  "metadata": {
    "colab": {
      "include_colab_link": true,
      "provenance": [],
      "toc_visible": true
    },
    "kernelspec": {
      "display_name": "Python 3",
      "name": "python3"
    },
    "language_info": {
      "codemirror_mode": {
        "name": "ipython",
        "version": 3
      },
      "file_extension": ".py",
      "mimetype": "text/x-python",
      "name": "python",
      "nbconvert_exporter": "python",
      "pygments_lexer": "ipython3",
      "version": "3.11.6"
    }
  },
  "nbformat": 4,
  "nbformat_minor": 0
}
